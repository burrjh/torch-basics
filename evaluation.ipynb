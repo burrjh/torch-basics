{
 "cells": [
  {
   "cell_type": "code",
   "execution_count": 6,
   "metadata": {},
   "outputs": [],
   "source": [
    "import torch\n",
    "import torch.nn as nn \n",
    "import torch.nn.functional as F\n",
    "import numpy as np\n",
    "import matplotlib.pyplot as plt"
   ]
  },
  {
   "cell_type": "code",
   "execution_count": null,
   "metadata": {},
   "outputs": [],
   "source": []
  },
  {
   "cell_type": "code",
   "execution_count": 57,
   "metadata": {},
   "outputs": [],
   "source": [
    "from cnn_training import CNN"
   ]
  },
  {
   "cell_type": "markdown",
   "metadata": {},
   "source": [
    "It's always worth checking how the loss behaved during training.\n",
    "We saved a running loss every couple hundret of optimization steps, which we can load and plot now."
   ]
  },
  {
   "cell_type": "code",
   "execution_count": 1,
   "metadata": {},
   "outputs": [],
   "source": [
    "import pickle\n",
    "\n",
    "with open('losses.pkl', 'rb') as file:\n",
    "    losses_list = pickle.load(file)\n",
    "\n",
    "losses = [i/1000 for i in losses_list]\n",
    "step_num = [i+1 for i in range(len(losses))]"
   ]
  },
  {
   "cell_type": "code",
   "execution_count": 7,
   "metadata": {},
   "outputs": [
    {
     "data": {
      "text/plain": [
       "[<matplotlib.lines.Line2D at 0x243c3ea0160>]"
      ]
     },
     "execution_count": 7,
     "metadata": {},
     "output_type": "execute_result"
    },
    {
     "data": {
      "image/png": "[encoded data removed]",
      "text/plain": [
       "<Figure size 432x288 with 1 Axes>"
      ]
     },
     "metadata": {
      "needs_background": "light"
     },
     "output_type": "display_data"
    }
   ],
   "source": [
    "plt.plot(step_num,losses)"
   ]
  },
  {
   "cell_type": "markdown",
   "metadata": {},
   "source": [
    "This looks like a pretty smooth minimization curve. Sometimes you might see divergent behavior, which means you should try a smaller step size fot SGD."
   ]
  },
  {
   "cell_type": "code",
   "execution_count": 9,
   "metadata": {},
   "outputs": [],
   "source": [
    "# lets load the test data\n",
    "import torchvision\n",
    "transformation = torchvision.transforms.Compose(\n",
    "    [torchvision.transforms.ToTensor(),\n",
    "    torchvision.transforms.Normalize((0.5,0.5,0.5),(0.5,0.5,0.5))]\n",
    ")\n",
    "\n",
    "test_data = torchvision.datasets.CIFAR10(root='./data',train=False,download=False, transform=transformation)\n"
   ]
  },
  {
   "cell_type": "code",
   "execution_count": null,
   "metadata": {},
   "outputs": [],
   "source": []
  },
  {
   "cell_type": "code",
   "execution_count": 10,
   "metadata": {},
   "outputs": [],
   "source": [
    "# cifar10 contains 32x32 colored images of these types\n",
    "classes = ['plane', 'car', 'bird', 'cat','deer', 'dog', 'frog', 'horse', 'ship', 'truck']\n",
    "\n",
    "test_loader = torch.utils.data.DataLoader(test_data,\n",
    "                            batch_size=3,\n",
    "                            shuffle=True,         \n",
    "                            num_workers=2)        \n",
    "\n",
    "dataiter = iter(test_loader)\n",
    "images, labels = dataiter.next()\n",
    "\n",
    "def imshow(img):\n",
    "    img = img / 2 + 0.5     # unnormalize\n",
    "    npimg = img.numpy()\n",
    "    plt.imshow(np.transpose(npimg, (1, 2, 0)))\n",
    "    plt.show()\n",
    "\n"
   ]
  },
  {
   "cell_type": "code",
   "execution_count": 12,
   "metadata": {},
   "outputs": [
    {
     "data": {
      "image/png": "[encoded data removed]",
      "text/plain": [
       "<Figure size 432x288 with 1 Axes>"
      ]
     },
     "metadata": {
      "needs_background": "light"
     },
     "output_type": "display_data"
    },
    {
     "name": "stdout",
     "output_type": "stream",
     "text": [
      "labels:  car   horse horse\n"
     ]
    }
   ],
   "source": [
    "imshow(torchvision.utils.make_grid(images))\n",
    "print('labels: ', ' '.join(f'{classes[labels[j]]:5s}' for j in range(3)))"
   ]
  },
  {
   "cell_type": "code",
   "execution_count": 15,
   "metadata": {},
   "outputs": [
    {
     "data": {
      "text/plain": [
       "CNN(\n",
       "  (conv1): Conv2d(3, 6, kernel_size=(5, 5), stride=(1, 1))\n",
       "  (pool): MaxPool2d(kernel_size=2, stride=2, padding=0, dilation=1, ceil_mode=False)\n",
       "  (conv2): Conv2d(6, 16, kernel_size=(5, 5), stride=(1, 1))\n",
       "  (fc1): Linear(in_features=400, out_features=100, bias=True)\n",
       "  (fc2): Linear(in_features=100, out_features=64, bias=True)\n",
       "  (fc3): Linear(in_features=64, out_features=10, bias=True)\n",
       ")"
      ]
     },
     "execution_count": 15,
     "metadata": {},
     "output_type": "execute_result"
    }
   ],
   "source": [
    "# load trained model\n",
    "model = CNN()\n",
    "model.load_state_dict(torch.load('./trained_model'))\n",
    "model.eval() # now gradient computation is disabled saving alot of memory\n",
    "device = 'cuda:0' if torch.cuda.is_available else 'cpu'\n",
    "model.to(device)\n"
   ]
  },
  {
   "cell_type": "code",
   "execution_count": 16,
   "metadata": {},
   "outputs": [
    {
     "data": {
      "text/plain": [
       "tensor([[2.6840, 3.3708, 1.0551, 0.9956, 0.9884, 0.0000, 1.5553, 0.0000, 3.3477,\n",
       "         2.8349],\n",
       "        [3.5531, 0.0000, 4.9120, 5.0103, 6.5172, 6.1996, 2.1803, 7.7703, 0.0000,\n",
       "         1.8431],\n",
       "        [2.5513, 0.0000, 5.4514, 5.5665, 6.2143, 6.0815, 5.6618, 7.4273, 0.0000,\n",
       "         1.7669]], device='cuda:0', grad_fn=<ReluBackward0>)"
      ]
     },
     "execution_count": 16,
     "metadata": {},
     "output_type": "execute_result"
    }
   ],
   "source": [
    "predictions = model(images.to(device))\n",
    "\n",
    "predictions # have dimensionality [batchsize, n_classes]"
   ]
  },
  {
   "cell_type": "code",
   "execution_count": 17,
   "metadata": {},
   "outputs": [
    {
     "name": "stdout",
     "output_type": "stream",
     "text": [
      "car\n",
      "horse\n",
      "horse\n"
     ]
    }
   ],
   "source": [
    "activation, indices = torch.max(predictions,1)\n",
    "\n",
    "for i in indices.cpu().numpy():\n",
    "    print(classes[i])\n",
    "\n"
   ]
  },
  {
   "cell_type": "code",
   "execution_count": 18,
   "metadata": {},
   "outputs": [
    {
     "data": {
      "image/png": "[encoded data removed]",
      "text/plain": [
       "<Figure size 432x288 with 1 Axes>"
      ]
     },
     "metadata": {
      "needs_background": "light"
     },
     "output_type": "display_data"
    },
    {
     "name": "stdout",
     "output_type": "stream",
     "text": [
      "labels:  car   horse horse\n"
     ]
    }
   ],
   "source": [
    "# print images\n",
    "imshow(torchvision.utils.make_grid(images))\n",
    "print('labels: ', ' '.join(f'{classes[labels[j]]:5s}' for j in range(3)))"
   ]
  },
  {
   "cell_type": "markdown",
   "metadata": {},
   "source": [
    "So here all three predictions are correct."
   ]
  },
  {
   "cell_type": "code",
   "execution_count": 41,
   "metadata": {},
   "outputs": [],
   "source": [
    "def get_accuracy(model,dataloader,device):\n",
    "    '''calculates the accuracy of a model on a sample provided by dataloader'''\n",
    "    correct = 0\n",
    "    total   = 0\n",
    "\n",
    "    model.to(device)\n",
    "\n",
    "    with torch.no_grad(): # disable gradient computation to save memory\n",
    "        for i,batch in enumerate(dataloader):\n",
    "            input, label = batch\n",
    "            input, label = input.to(device), label.to(device)\n",
    "            output = model(input)\n",
    "            _, predicted = torch.max(output.data,1) # get max activation\n",
    "            total += label.size(0)\n",
    "            correct += (predicted == label).sum().item()\n",
    "\n",
    "\n",
    "            return correct / total\n",
    "\n"
   ]
  },
  {
   "cell_type": "code",
   "execution_count": 42,
   "metadata": {},
   "outputs": [],
   "source": [
    "acc_test = get_accuracy(model,test_loader,device)"
   ]
  },
  {
   "cell_type": "code",
   "execution_count": 55,
   "metadata": {},
   "outputs": [
    {
     "name": "stdout",
     "output_type": "stream",
     "text": [
      "Estimated accuracy on the test set is  66.667 %\n"
     ]
    }
   ],
   "source": [
    "print(\"Estimated accuracy on the test set is \", round(acc_test*100,3), \"%\")"
   ]
  },
  {
   "cell_type": "markdown",
   "metadata": {},
   "source": [
    "Note that random chance would be around 10%, so the network definitly learned something."
   ]
  }
 ],
 "metadata": {
  "interpreter": {
   "hash": "4fa90ab3aeaa02e23d6f2bc9643ce0bd9d2d7ebb5697977b6cbe30ea40381208"
  },
  "kernelspec": {
   "display_name": "Python 3.8.5 ('ml')",
   "language": "python",
   "name": "python3"
  },
  "language_info": {
   "codemirror_mode": {
    "name": "ipython",
    "version": 3
   },
   "file_extension": ".py",
   "mimetype": "text/x-python",
   "name": "python",
   "nbconvert_exporter": "python",
   "pygments_lexer": "ipython3",
   "version": "3.8.5"
  },
  "orig_nbformat": 4
 },
 "nbformat": 4,
 "nbformat_minor": 2
}
